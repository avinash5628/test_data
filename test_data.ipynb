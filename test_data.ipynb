{
 "cells": [
  {
   "cell_type": "code",
   "execution_count": 1,
   "metadata": {},
   "outputs": [],
   "source": [
    "# This notebook is to demonstrate how to run the Classification Model\n",
    "import os#\n",
    "import pandas as pd# to read the data frame\n",
    "import numpy as np#np is to perform the mathmetical function\n",
    "import matplotlib.pyplot as plt# plt is to perform visualization in python\n",
    "import warnings\n",
    "warnings.filterwarnings(\"ignore\")"
   ]
  },
  {
   "cell_type": "code",
   "execution_count": 46,
   "metadata": {},
   "outputs": [
    {
     "data": {
      "text/plain": [
       "C    1694\n",
       "B    1163\n",
       "A    1052\n",
       "E    1029\n",
       "F     699\n",
       "D     202\n",
       "Name: Class, dtype: int64"
      ]
     },
     "execution_count": 46,
     "metadata": {},
     "output_type": "execute_result"
    }
   ],
   "source": [
    "test_df=pd.read_csv('C:\\\\Users\\\\avinash\\\\Downloads\\\\test.csv')# Command to read the dataset\n",
    "test_df.head()\n",
    "test_df['Class'].value_counts()#we consider the class is the traget /output variable."
   ]
  },
  {
   "cell_type": "code",
   "execution_count": 29,
   "metadata": {},
   "outputs": [
    {
     "data": {
      "text/html": [
       "<div>\n",
       "<style scoped>\n",
       "    .dataframe tbody tr th:only-of-type {\n",
       "        vertical-align: middle;\n",
       "    }\n",
       "\n",
       "    .dataframe tbody tr th {\n",
       "        vertical-align: top;\n",
       "    }\n",
       "\n",
       "    .dataframe thead th {\n",
       "        text-align: right;\n",
       "    }\n",
       "</style>\n",
       "<table border=\"1\" class=\"dataframe\">\n",
       "  <thead>\n",
       "    <tr style=\"text-align: right;\">\n",
       "      <th></th>\n",
       "      <th>A</th>\n",
       "      <th>B</th>\n",
       "      <th>C</th>\n",
       "      <th>G</th>\n",
       "      <th>R</th>\n",
       "      <th>X6</th>\n",
       "      <th>X8</th>\n",
       "      <th>Class</th>\n",
       "    </tr>\n",
       "  </thead>\n",
       "  <tbody>\n",
       "    <tr>\n",
       "      <th>0</th>\n",
       "      <td>6</td>\n",
       "      <td>860.62</td>\n",
       "      <td>809.73</td>\n",
       "      <td>65.24</td>\n",
       "      <td>573</td>\n",
       "      <td>88.1326</td>\n",
       "      <td>0.2113</td>\n",
       "      <td>A</td>\n",
       "    </tr>\n",
       "    <tr>\n",
       "      <th>1</th>\n",
       "      <td>7</td>\n",
       "      <td>871.58</td>\n",
       "      <td>789.74</td>\n",
       "      <td>64.54</td>\n",
       "      <td>849</td>\n",
       "      <td>84.8057</td>\n",
       "      <td>0.2151</td>\n",
       "      <td>A</td>\n",
       "    </tr>\n",
       "    <tr>\n",
       "      <th>2</th>\n",
       "      <td>6</td>\n",
       "      <td>854.87</td>\n",
       "      <td>789.74</td>\n",
       "      <td>64.54</td>\n",
       "      <td>687</td>\n",
       "      <td>90.5386</td>\n",
       "      <td>0.2127</td>\n",
       "      <td>A</td>\n",
       "    </tr>\n",
       "    <tr>\n",
       "      <th>3</th>\n",
       "      <td>7</td>\n",
       "      <td>823.73</td>\n",
       "      <td>759.75</td>\n",
       "      <td>68.20</td>\n",
       "      <td>475</td>\n",
       "      <td>86.1053</td>\n",
       "      <td>0.2081</td>\n",
       "      <td>A</td>\n",
       "    </tr>\n",
       "    <tr>\n",
       "      <th>4</th>\n",
       "      <td>6</td>\n",
       "      <td>823.44</td>\n",
       "      <td>759.75</td>\n",
       "      <td>68.20</td>\n",
       "      <td>424</td>\n",
       "      <td>87.0283</td>\n",
       "      <td>0.2429</td>\n",
       "      <td>A</td>\n",
       "    </tr>\n",
       "  </tbody>\n",
       "</table>\n",
       "</div>"
      ],
      "text/plain": [
       "   A       B       C      G    R       X6      X8 Class\n",
       "0  6  860.62  809.73  65.24  573  88.1326  0.2113     A\n",
       "1  7  871.58  789.74  64.54  849  84.8057  0.2151     A\n",
       "2  6  854.87  789.74  64.54  687  90.5386  0.2127     A\n",
       "3  7  823.73  759.75  68.20  475  86.1053  0.2081     A\n",
       "4  6  823.44  759.75  68.20  424  87.0283  0.2429     A"
      ]
     },
     "execution_count": 29,
     "metadata": {},
     "output_type": "execute_result"
    }
   ],
   "source": [
    "#asigned few values from test_df and created a dataframe using dictinoary\n",
    "df=pd.DataFrame({'A':test_df['A'],'B':test_df['B'],'C':test_df['C'],'G':test_df['G'],'R':test_df['R'],'X6':test_df['X6'],'X8':test_df['X8'],'Class':test_df['Class']})\n",
    "df.head()"
   ]
  },
  {
   "cell_type": "code",
   "execution_count": 30,
   "metadata": {},
   "outputs": [],
   "source": [
    "y=df['Class']#assign class variable to y\n",
    "df.drop(columns='Class',inplace=True)#to drop the class variable"
   ]
  },
  {
   "cell_type": "code",
   "execution_count": 32,
   "metadata": {},
   "outputs": [
    {
     "data": {
      "text/plain": [
       "A     0\n",
       "B     0\n",
       "C     0\n",
       "G     0\n",
       "R     0\n",
       "X6    0\n",
       "X8    0\n",
       "dtype: int64"
      ]
     },
     "execution_count": 32,
     "metadata": {},
     "output_type": "execute_result"
    }
   ],
   "source": [
    "df.isnull().sum()"
   ]
  },
  {
   "cell_type": "code",
   "execution_count": 31,
   "metadata": {},
   "outputs": [],
   "source": [
    "# This command splits the data set into training & testing sets\n",
    "from sklearn.model_selection import train_test_split\n",
    "\n",
    "X_train,X_test,y_train,y_test=train_test_split(df,y,test_size=0.3,random_state=42)"
   ]
  },
  {
   "cell_type": "code",
   "execution_count": 33,
   "metadata": {},
   "outputs": [
    {
     "data": {
      "text/plain": [
       "['A', 'B', 'C', 'G', 'R', 'X6', 'X8']"
      ]
     },
     "execution_count": 33,
     "metadata": {},
     "output_type": "execute_result"
    }
   ],
   "source": [
    "cont_cols=[col for col in X_train.columns if df[col].dtype==\"int64\" or \"float64\"]#created a list for cols contain continous variable\n",
    "cont_cols"
   ]
  },
  {
   "cell_type": "code",
   "execution_count": 37,
   "metadata": {},
   "outputs": [],
   "source": [
    "from sklearn.preprocessing import StandardScaler#standard scaler is used to scale the continous variables\n",
    "scaler=StandardScaler()\n",
    "for ele in cont_cols:\n",
    "    X_train[ele]=scaler.fit_transform(np.array(X_train[ele]).reshape(-1,1))#fitting the X_train[ele] to scale\n",
    "    X_test[ele]=scaler.transform(np.array(X_test[ele]).reshape(-1,1))#here we are transforming the Xtest"
   ]
  },
  {
   "cell_type": "code",
   "execution_count": 38,
   "metadata": {},
   "outputs": [
    {
     "data": {
      "image/png": "[encoded data removed]",
      "text/plain": [
       "<Figure size 432x288 with 1 Axes>"
      ]
     },
     "metadata": {
      "needs_background": "light"
     },
     "output_type": "display_data"
    }
   ],
   "source": [
    "from sklearn.decomposition import PCA#pca is used to reduce features by checking its correlation\n",
    "pca=PCA()\n",
    "\n",
    "X_train = pca.fit_transform(X_train) \n",
    "X_test = pca.transform(X_test) \n",
    "  \n",
    "\n",
    "plt.plot(np.cumsum(pca.explained_variance_ratio_))#here the plot is to check the features highly covariance\n",
    "v=pca.components_"
   ]
  },
  {
   "cell_type": "code",
   "execution_count": 51,
   "metadata": {},
   "outputs": [
    {
     "data": {
      "text/plain": [
       "array([[-2.54682314, -0.12449152,  0.16950239, ...,  0.24327487,\n",
       "         0.3138415 ,  0.08858577],\n",
       "       [-1.51860025,  0.13509896,  0.8692837 , ...,  0.02432457,\n",
       "        -0.04889962,  0.07819777],\n",
       "       [ 0.04191776,  0.56696961, -0.24521453, ..., -0.33953247,\n",
       "        -0.19410016, -0.53031301],\n",
       "       ...,\n",
       "       [-1.27275497, -0.59550527,  0.23600812, ..., -0.44932697,\n",
       "         0.0541705 , -0.12473608],\n",
       "       [ 5.09116077, -1.33913533, -1.06920524, ..., -1.01540869,\n",
       "         1.65461796,  0.60998146],\n",
       "       [ 0.87107831, -0.33787404, -0.88710073, ..., -0.43544212,\n",
       "        -0.19357273,  0.03060128]])"
      ]
     },
     "execution_count": 51,
     "metadata": {},
     "output_type": "execute_result"
    }
   ],
   "source": [
    "pca=PCA()#here we had not consider any components due to the featues are less\n",
    "X_train"
   ]
  },
  {
   "cell_type": "code",
   "execution_count": 96,
   "metadata": {},
   "outputs": [
    {
     "name": "stdout",
     "output_type": "stream",
     "text": [
      "[0.44607992 0.18068925 0.14587559 0.10323001 0.09120868 0.024454\n",
      " 0.00846255]\n",
      "[[ 0.35043476 -0.53564958 -0.48602908  0.47552838 -0.05283886 -0.31692283\n",
      "  -0.15713521]\n",
      " [ 0.07967023 -0.03422114 -0.3160351  -0.36040667  0.85307051  0.03836165\n",
      "  -0.18305603]\n",
      " [ 0.30853439 -0.11092898 -0.11352069  0.09787647  0.12374932  0.42082113\n",
      "   0.82318298]\n",
      " [ 0.44217935 -0.01516299  0.07212045  0.02724144 -0.14503821  0.72075356\n",
      "  -0.50772264]\n",
      " [ 0.76118726  0.28735905  0.28750759 -0.22693199 -0.01764939 -0.44817725\n",
      "   0.05182313]\n",
      " [-0.02002047  0.07335398  0.54290772  0.68109865  0.48197024 -0.00908074\n",
      "  -0.05653701]\n",
      " [ 0.01803397  0.78193175 -0.51807319  0.3438959  -0.02284677  0.02380915\n",
      "  -0.02245998]]\n"
     ]
    }
   ],
   "source": [
    "print(pca.explained_variance_ratio_)\n",
    "print(pca.components_)"
   ]
  },
  {
   "cell_type": "code",
   "execution_count": 52,
   "metadata": {},
   "outputs": [],
   "source": [
    "from sklearn.tree import DecisionTreeClassifier\n",
    "\n",
    "#Import GridSearchCV,RandomizedSearchCV for Hyperparameter Tunning \n",
    "from sklearn.model_selection import GridSearchCV,RandomizedSearchCV\n",
    "from sklearn.ensemble import RandomForestClassifier"
   ]
  },
  {
   "cell_type": "code",
   "execution_count": 64,
   "metadata": {},
   "outputs": [],
   "source": [
    "#Import the metrics to measure the performance of the model, here the problem statement is classification, so we import the classification problem metrics\n",
    "from sklearn.metrics import confusion_matrix,precision_score,recall_score,accuracy_score,roc_auc_score,roc_curve\n"
   ]
  },
  {
   "cell_type": "code",
   "execution_count": 55,
   "metadata": {},
   "outputs": [],
   "source": [
    "tree=DecisionTreeClassifier()# instantiating the model, tree is the object\n",
    "parmeter={\"criterion\":[\"entropy\"],#consider few parameter in decision tree classifier\n",
    "          \"max_depth\":[5,6,7,8,9],\n",
    "          \"min_samples_split\":[3,4,5,6,7],\n",
    "          \"min_samples_leaf\":[1,2,3,4,5]}\n",
    "#decision trees is to get clarity of information representation"
   ]
  },
  {
   "cell_type": "code",
   "execution_count": 56,
   "metadata": {},
   "outputs": [
    {
     "name": "stdout",
     "output_type": "stream",
     "text": [
      "{'min_samples_split': 7, 'min_samples_leaf': 1, 'max_depth': 9, 'criterion': 'entropy'}\n",
      "0.45852703694641544\n"
     ]
    }
   ],
   "source": [
    "rd_cv=RandomizedSearchCV(estimator=tree,param_distributions=parmeter,cv=5,n_iter=10)\n",
    "\n",
    "rd_cv.fit(X_train,y_train)\n",
    "\n",
    "print(rd_cv.best_params_)#finding best parameters\n",
    "\n",
    "print(rd_cv.best_score_)"
   ]
  },
  {
   "cell_type": "code",
   "execution_count": 57,
   "metadata": {},
   "outputs": [
    {
     "name": "stdout",
     "output_type": "stream",
     "text": [
      "{'criterion': 'entropy', 'max_depth': 9, 'min_samples_leaf': 3, 'min_samples_split': 7}\n",
      "0.4771225838023\n",
      "DecisionTreeClassifier(class_weight=None, criterion='entropy', max_depth=9,\n",
      "            max_features=None, max_leaf_nodes=None,\n",
      "            min_impurity_decrease=0.0, min_impurity_split=None,\n",
      "            min_samples_leaf=3, min_samples_split=7,\n",
      "            min_weight_fraction_leaf=0.0, presort=False, random_state=None,\n",
      "            splitter='best')\n",
      "114\n"
     ]
    }
   ],
   "source": [
    "gd_cv=GridSearchCV(estimator=tree,param_grid=parmeter,cv=15)\n",
    "\n",
    "gd_cv.fit(X_train,y_train)\n",
    "\n",
    "print(gd_cv.best_params_)\n",
    "\n",
    "print(gd_cv.best_score_)\n",
    "\n",
    "print(gd_cv.best_estimator_)\n",
    "\n",
    "print(gd_cv.best_index_)"
   ]
  },
  {
   "cell_type": "code",
   "execution_count": 67,
   "metadata": {},
   "outputs": [
    {
     "data": {
      "text/plain": [
       "array([[100,  67,  80,   0,  22,  49],\n",
       "       [ 67, 137, 109,   2,  24,  21],\n",
       "       [ 39,  59, 329,   1,  15,  43],\n",
       "       [  9,   8,  13,  12,  22,   8],\n",
       "       [ 34,  40,  72,  13, 130,  26],\n",
       "       [ 44,  21,  47,   2,  12,  75]], dtype=int64)"
      ]
     },
     "execution_count": 67,
     "metadata": {},
     "output_type": "execute_result"
    }
   ],
   "source": [
    "#here we are considering  grid_cv parameters only based upon that we had built decision tree\n",
    "tree=DecisionTreeClassifier(criterion='entropy',max_depth=9,min_samples_leaf=1,min_samples_split=3,random_state=40)\n",
    "# Training the model on the train data\n",
    "tree.fit(X_train,y_train)\n",
    "# Predict on the test data\n",
    "y_pred=tree.predict(X_test)\n",
    "#Generate the confusion Matrix \n",
    "confusion_matrix(y_test,y_pred)"
   ]
  },
  {
   "cell_type": "code",
   "execution_count": 68,
   "metadata": {},
   "outputs": [
    {
     "data": {
      "text/plain": [
       "0.4469178082191781"
      ]
     },
     "execution_count": 68,
     "metadata": {},
     "output_type": "execute_result"
    }
   ],
   "source": [
    "accuracy_score(y_test,y_pred)"
   ]
  },
  {
   "cell_type": "code",
   "execution_count": 72,
   "metadata": {},
   "outputs": [
    {
     "data": {
      "text/plain": [
       "array([0.34129693, 0.4126506 , 0.50615385, 0.4       , 0.57777778,\n",
       "       0.33783784])"
      ]
     },
     "execution_count": 72,
     "metadata": {},
     "output_type": "execute_result"
    }
   ],
   "source": [
    "precision_score(y_test, y_pred, average=None)"
   ]
  },
  {
   "cell_type": "code",
   "execution_count": 74,
   "metadata": {},
   "outputs": [
    {
     "data": {
      "text/plain": [
       "array([0.31446541, 0.38055556, 0.67695473, 0.16666667, 0.41269841,\n",
       "       0.37313433])"
      ]
     },
     "execution_count": 74,
     "metadata": {},
     "output_type": "execute_result"
    }
   ],
   "source": [
    "recall_score(y_test,y_pred,average=None)"
   ]
  },
  {
   "cell_type": "code",
   "execution_count": 76,
   "metadata": {},
   "outputs": [
    {
     "data": {
      "text/plain": [
       "array([0.32733224, 0.39595376, 0.57922535, 0.23529412, 0.48148148,\n",
       "       0.35460993])"
      ]
     },
     "execution_count": 76,
     "metadata": {},
     "output_type": "execute_result"
    }
   ],
   "source": [
    "from sklearn.metrics import f1_score\n",
    "\n",
    "f1_score(y_test,y_pred,average=None)"
   ]
  },
  {
   "cell_type": "code",
   "execution_count": 88,
   "metadata": {},
   "outputs": [],
   "source": [
    "from sklearn.preprocessing import LabelBinarizer#to convert multiclass format \n",
    "lb = LabelBinarizer()\n",
    "lb.fit(y_test)\n",
    "y_test = lb.transform(y_test)\n",
    "y_pred = lb.transform(y_pred)"
   ]
  },
  {
   "cell_type": "code",
   "execution_count": null,
   "metadata": {},
   "outputs": [],
   "source": [
    "y_pred_proba=tree.predict_proba(X_test)[::,1]\n",
    "\n",
    "fpr,tpr,thresholds=roc_curve(y_test,y_pred_proba) # the function roc_curve returns three values, the False Positive Rate,True Positive rate\n",
    "                                                # threshold values it used to calculate the TPR and FPR\n",
    "auc=roc_auc_score(y_test, y_pred_proba)\n",
    "\n",
    "plt.plot(fpr,tpr,label=\"auc=\"+str(auc))\n",
    "plt.xlabel('False Positive Rate')\n",
    "plt.ylabel('True Positive Rate')\n",
    "plt.title('AUC-ROC Curve')\n",
    "plt.legend(loc=8)\n",
    "plt.show()"
   ]
  },
  {
   "cell_type": "code",
   "execution_count": null,
   "metadata": {},
   "outputs": [],
   "source": []
  },
  {
   "cell_type": "code",
   "execution_count": null,
   "metadata": {},
   "outputs": [],
   "source": []
  },
  {
   "cell_type": "code",
   "execution_count": null,
   "metadata": {},
   "outputs": [],
   "source": []
  },
  {
   "cell_type": "code",
   "execution_count": null,
   "metadata": {},
   "outputs": [],
   "source": []
  }
 ],
 "metadata": {
  "kernelspec": {
   "display_name": "Python 3",
   "language": "python",
   "name": "python3"
  },
  "language_info": {
   "codemirror_mode": {
    "name": "ipython",
    "version": 3
   },
   "file_extension": ".py",
   "mimetype": "text/x-python",
   "name": "python",
   "nbconvert_exporter": "python",
   "pygments_lexer": "ipython3",
   "version": "3.7.1"
  }
 },
 "nbformat": 4,
 "nbformat_minor": 2
}
